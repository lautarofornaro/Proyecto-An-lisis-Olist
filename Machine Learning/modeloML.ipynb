{
 "cells": [
  {
   "cell_type": "markdown",
   "metadata": {},
   "source": [
    "# Modelo MLR para cálculo de precio de envío"
   ]
  },
  {
   "cell_type": "code",
   "execution_count": 3,
   "metadata": {},
   "outputs": [],
   "source": [
    "import numpy as np\n",
    "import matplotlib.pyplot as plt\n",
    "import pandas as pd\n",
    "import matplotlib.dates as mpdates\n",
    "from sklearn.model_selection import train_test_split as tts\n",
    "from sklearn.linear_model import LinearRegression as LR\n",
    "import statsmodels.api as sm\n"
   ]
  },
  {
   "cell_type": "code",
   "execution_count": 4,
   "metadata": {},
   "outputs": [
    {
     "data": {
      "text/html": [
       "<table class=\"simpletable\">\n",
       "<caption>OLS Regression Results</caption>\n",
       "<tr>\n",
       "  <th>Dep. Variable:</th>            <td>y</td>        <th>  R-squared (uncentered):</th>      <td>   0.810</td> \n",
       "</tr>\n",
       "<tr>\n",
       "  <th>Model:</th>                   <td>OLS</td>       <th>  Adj. R-squared (uncentered):</th> <td>   0.810</td> \n",
       "</tr>\n",
       "<tr>\n",
       "  <th>Method:</th>             <td>Least Squares</td>  <th>  F-statistic:       </th>          <td>1.917e+04</td>\n",
       "</tr>\n",
       "<tr>\n",
       "  <th>Date:</th>             <td>Wed, 27 Jul 2022</td> <th>  Prob (F-statistic):</th>           <td>  0.00</td>  \n",
       "</tr>\n",
       "<tr>\n",
       "  <th>Time:</th>                 <td>00:38:16</td>     <th>  Log-Likelihood:    </th>          <td> -86275.</td> \n",
       "</tr>\n",
       "<tr>\n",
       "  <th>No. Observations:</th>      <td> 22527</td>      <th>  AIC:               </th>          <td>1.726e+05</td>\n",
       "</tr>\n",
       "<tr>\n",
       "  <th>Df Residuals:</th>          <td> 22522</td>      <th>  BIC:               </th>          <td>1.726e+05</td>\n",
       "</tr>\n",
       "<tr>\n",
       "  <th>Df Model:</th>              <td>     5</td>      <th>                     </th>              <td> </td>    \n",
       "</tr>\n",
       "<tr>\n",
       "  <th>Covariance Type:</th>      <td>nonrobust</td>    <th>                     </th>              <td> </td>    \n",
       "</tr>\n",
       "</table>\n",
       "<table class=\"simpletable\">\n",
       "<tr>\n",
       "   <td></td>     <th>coef</th>     <th>std err</th>      <th>t</th>      <th>P>|t|</th>  <th>[0.025</th>    <th>0.975]</th>  \n",
       "</tr>\n",
       "<tr>\n",
       "  <th>x1</th> <td>    0.0019</td> <td> 2.51e-05</td> <td>   74.077</td> <td> 0.000</td> <td>    0.002</td> <td>    0.002</td>\n",
       "</tr>\n",
       "<tr>\n",
       "  <th>x2</th> <td>    0.1039</td> <td>    0.005</td> <td>   20.473</td> <td> 0.000</td> <td>    0.094</td> <td>    0.114</td>\n",
       "</tr>\n",
       "<tr>\n",
       "  <th>x3</th> <td>    0.1667</td> <td>    0.006</td> <td>   27.218</td> <td> 0.000</td> <td>    0.155</td> <td>    0.179</td>\n",
       "</tr>\n",
       "<tr>\n",
       "  <th>x4</th> <td>    0.1410</td> <td>    0.007</td> <td>   19.951</td> <td> 0.000</td> <td>    0.127</td> <td>    0.155</td>\n",
       "</tr>\n",
       "<tr>\n",
       "  <th>x5</th> <td>    1.2668</td> <td>    0.013</td> <td>  100.740</td> <td> 0.000</td> <td>    1.242</td> <td>    1.291</td>\n",
       "</tr>\n",
       "</table>\n",
       "<table class=\"simpletable\">\n",
       "<tr>\n",
       "  <th>Omnibus:</th>       <td>23927.111</td> <th>  Durbin-Watson:     </th>  <td>   1.974</td>  \n",
       "</tr>\n",
       "<tr>\n",
       "  <th>Prob(Omnibus):</th>  <td> 0.000</td>   <th>  Jarque-Bera (JB):  </th> <td>5854446.457</td>\n",
       "</tr>\n",
       "<tr>\n",
       "  <th>Skew:</th>           <td> 4.907</td>   <th>  Prob(JB):          </th>  <td>    0.00</td>  \n",
       "</tr>\n",
       "<tr>\n",
       "  <th>Kurtosis:</th>       <td>81.364</td>   <th>  Cond. No.          </th>  <td>    735.</td>  \n",
       "</tr>\n",
       "</table><br/><br/>Notes:<br/>[1] R² is computed without centering (uncentered) since the model does not contain a constant.<br/>[2] Standard Errors assume that the covariance matrix of the errors is correctly specified."
      ],
      "text/plain": [
       "<class 'statsmodels.iolib.summary.Summary'>\n",
       "\"\"\"\n",
       "                                 OLS Regression Results                                \n",
       "=======================================================================================\n",
       "Dep. Variable:                      y   R-squared (uncentered):                   0.810\n",
       "Model:                            OLS   Adj. R-squared (uncentered):              0.810\n",
       "Method:                 Least Squares   F-statistic:                          1.917e+04\n",
       "Date:                Wed, 27 Jul 2022   Prob (F-statistic):                        0.00\n",
       "Time:                        00:38:16   Log-Likelihood:                         -86275.\n",
       "No. Observations:               22527   AIC:                                  1.726e+05\n",
       "Df Residuals:                   22522   BIC:                                  1.726e+05\n",
       "Df Model:                           5                                                  \n",
       "Covariance Type:            nonrobust                                                  \n",
       "==============================================================================\n",
       "                 coef    std err          t      P>|t|      [0.025      0.975]\n",
       "------------------------------------------------------------------------------\n",
       "x1             0.0019   2.51e-05     74.077      0.000       0.002       0.002\n",
       "x2             0.1039      0.005     20.473      0.000       0.094       0.114\n",
       "x3             0.1667      0.006     27.218      0.000       0.155       0.179\n",
       "x4             0.1410      0.007     19.951      0.000       0.127       0.155\n",
       "x5             1.2668      0.013    100.740      0.000       1.242       1.291\n",
       "==============================================================================\n",
       "Omnibus:                    23927.111   Durbin-Watson:                   1.974\n",
       "Prob(Omnibus):                  0.000   Jarque-Bera (JB):          5854446.457\n",
       "Skew:                           4.907   Prob(JB):                         0.00\n",
       "Kurtosis:                      81.364   Cond. No.                         735.\n",
       "==============================================================================\n",
       "\n",
       "Notes:\n",
       "[1] R² is computed without centering (uncentered) since the model does not contain a constant.\n",
       "[2] Standard Errors assume that the covariance matrix of the errors is correctly specified.\n",
       "\"\"\""
      ]
     },
     "execution_count": 4,
     "metadata": {},
     "output_type": "execute_result"
    }
   ],
   "source": [
    "\n",
    "dataset=pd.read_csv('data\\master_join.csv')\n",
    "X=dataset.iloc[:,3:].values\n",
    "y=dataset.iloc[:,2:3].values\n",
    "X_train, X_test, y_train, y_test = tts(X, y, test_size=0.2, random_state=0)\n",
    "regresion=LR()\n",
    "regresion.fit(X_train, y_train)\n",
    "y_pred_MLR=regresion.predict(X_test)\n",
    "X_opt=X_test\n",
    "regresion_OLS = sm.OLS(endog = y_test, exog = X_opt.tolist()).fit()\n",
    "regresion_OLS.summary()"
   ]
  },
  {
   "cell_type": "markdown",
   "metadata": {},
   "source": [
    "# Modelo MLR para cálculo de tiempo de envío"
   ]
  },
  {
   "cell_type": "code",
   "execution_count": 5,
   "metadata": {},
   "outputs": [],
   "source": [
    "from math import radians, sin, cos, asin, sqrt\n",
    "import seaborn as sns\n",
    "from sklearn.preprocessing import StandardScaler\n",
    "from sklearn.model_selection import train_test_split\n",
    "from sklearn.ensemble import RandomForestRegressor, GradientBoostingRegressor, ExtraTreesRegressor\n"
   ]
  },
  {
   "cell_type": "code",
   "execution_count": 15,
   "metadata": {},
   "outputs": [],
   "source": [
    "\n",
    "def haversine_distance(lat1, lon1, lat2, lon2):\n",
    "\n",
    "    lon1, lat1, lon2, lat2 = map(radians, [lon1, lat1, lon2, lat2])\n",
    "    dlon = lon2 - lon1\n",
    "    dlat = lat2 - lat1\n",
    "    a = sin(dlat / 2) * 2 + cos(lat1) * cos(lat2) * sin(dlon / 2) * 2\n",
    "    return a\n",
    "\n"
   ]
  },
  {
   "cell_type": "code",
   "execution_count": 13,
   "metadata": {},
   "outputs": [],
   "source": [
    "\n",
    "customers = pd.read_csv('data/olist_customers_dataset.csv')\n",
    "geolocation =  pd.read_csv('data/olist_geolocation_dataset.csv')\n",
    "order_items =  pd.read_csv('data/olist_order_items_dataset.csv')\n",
    "orders =  pd.read_csv('data/olist_orders_dataset.csv')\n",
    "products = pd.read_csv('data/olist_products_dataset.csv')\n",
    "sellers = pd.read_csv('data/olist_sellers_dataset.csv')\n",
    "\n",
    "order_items = pd.merge(order_items, sellers[['seller_id', 'seller_zip_code_prefix']], left_on='seller_id', right_on='seller_id').drop(['order_item_id','shipping_limit_date'], axis=1)\n",
    "merge_df = pd.merge(order_items, orders, left_on='order_id', right_on='order_id', how='left')\n",
    "merge_df = pd.merge(merge_df, customers[['customer_id', 'customer_zip_code_prefix']], how='left',left_on='customer_id',right_on='customer_id')\n",
    "geo = geolocation.groupby('geolocation_zip_code_prefix').mean().reset_index()\n",
    "\n",
    "\n",
    "merge_df = pd.merge(merge_df, geo[['geolocation_zip_code_prefix', 'geolocation_lat', 'geolocation_lng']], how='left', \n",
    "                    left_on='seller_zip_code_prefix', right_on='geolocation_zip_code_prefix').rename(columns={'geolocation_lat': 'seller_lat', \n",
    "                                                                                                              'geolocation_lng': 'seller_lon'})\n",
    "merge_df = pd.merge(merge_df, geo[['geolocation_zip_code_prefix', 'geolocation_lat', 'geolocation_lng']], how='inner', \n",
    "                    left_on='customer_zip_code_prefix', right_on='geolocation_zip_code_prefix').rename(columns={'geolocation_lat': 'customer_lat', \n",
    "                                                                                                              'geolocation_lng': 'customer_lon'})\n",
    "merge_df = pd.merge(merge_df, products[['product_id','product_category_name','product_photos_qty','product_weight_g','product_length_cm','product_height_cm','product_width_cm']], \n",
    "                   left_on='product_id', right_on='product_id', how='left')\n",
    "                   \n",
    "merge_df['product_volume_cm3']=merge_df.product_length_cm * merge_df.product_height_cm * merge_df.product_width_cm\n",
    "merge_df.order_delivered_customer_date = pd.to_datetime(merge_df.order_delivered_customer_date)\n",
    "merge_df.order_delivered_carrier_date = pd.to_datetime(merge_df.order_delivered_carrier_date)\n",
    "merge_df.order_purchase_timestamp = pd.to_datetime(merge_df.order_purchase_timestamp)\n",
    "merge_df.order_estimated_delivery_date = pd.to_datetime(merge_df.order_estimated_delivery_date)\n",
    "merge_df['purchase_month']=merge_df.order_purchase_timestamp.dt.month\n",
    "merge_df['purchase_day_of_week']=merge_df.order_purchase_timestamp.dt.day_of_week\n",
    "merge_df['actual_delivery_time']=(merge_df.order_delivered_customer_date-merge_df.order_purchase_timestamp).dt.days\n",
    "merge_df['carrier_delivery_time']=(merge_df.order_delivered_carrier_date-merge_df.order_purchase_timestamp).dt.days\n",
    "merge_df['estimated_delivery_time']=(merge_df.order_estimated_delivery_date-merge_df.order_purchase_timestamp).dt.days\n"
   ]
  },
  {
   "cell_type": "code",
   "execution_count": 16,
   "metadata": {},
   "outputs": [],
   "source": [
    "\n",
    "merge_df['distance'] = merge_df.apply(\n",
    "    lambda row: haversine_distance(\n",
    "        row['seller_lat'],\n",
    "        row['seller_lon'],\n",
    "        row['customer_lat'],\n",
    "        row['customer_lon'],\n",
    "    ),\n",
    "    axis=1,\n",
    ")\n"
   ]
  },
  {
   "cell_type": "code",
   "execution_count": 17,
   "metadata": {},
   "outputs": [
    {
     "name": "stderr",
     "output_type": "stream",
     "text": [
      "C:\\Users\\Gerardo\\AppData\\Local\\Temp\\ipykernel_9044\\4065323128.py:8: DeprecationWarning: `np.bool` is a deprecated alias for the builtin `bool`. To silence this warning, use `bool` by itself. Doing this will not modify any behavior and is safe. If you specifically wanted the numpy scalar type, use `np.bool_` here.\n",
      "Deprecated in NumPy 1.20; for more details and guidance: https://numpy.org/devdocs/release/1.20.0-notes.html#deprecations\n",
      "  mask = np.zeros_like(merge_df[merge_df.columns[::-1]].corr(), dtype=np.bool)\n"
     ]
    }
   ],
   "source": [
    "\n",
    "merge_df=merge_df.drop(['order_status','product_length_cm','product_height_cm', 'order_delivered_carrier_date', \n",
    "                        'product_width_cm', 'order_id', 'product_id', 'order_purchase_timestamp', 'order_delivered_customer_date', \n",
    "                        'product_category_name', 'seller_id', 'customer_zip_code_prefix', 'seller_zip_code_prefix', 'customer_id', 'order_estimated_delivery_date', \n",
    "                        'geolocation_zip_code_prefix_x', 'geolocation_zip_code_prefix_y', 'order_approved_at', 'product_photos_qty', 'seller_lat', \n",
    "                        'seller_lon', 'customer_lat', 'customer_lon'], axis=1, errors='ignore')\n",
    "merge_df = merge_df.dropna()\n",
    "\n",
    "mask = np.zeros_like(merge_df[merge_df.columns[::-1]].corr(), dtype=np.bool)\n",
    "mask[np.triu_indices_from(mask)] = True\n"
   ]
  },
  {
   "cell_type": "code",
   "execution_count": 21,
   "metadata": {},
   "outputs": [],
   "source": [
    "merge_df.to_csv('data\\merge_df.csv')"
   ]
  },
  {
   "cell_type": "code",
   "execution_count": 22,
   "metadata": {},
   "outputs": [],
   "source": [
    "merge_df = pd.read_csv('data/merge_df.csv')"
   ]
  },
  {
   "cell_type": "code",
   "execution_count": 40,
   "metadata": {},
   "outputs": [],
   "source": [
    "\n",
    "target = 'estimated_delivery_time'\n",
    "features = ['freight_value', \n",
    "            'product_volume_cm3', \n",
    "            'product_weight_g',\n",
    "            'carrier_delivery_time',\n",
    "            'distance'\n",
    "           ]\n",
    "\n",
    "\n",
    "\n",
    "X = merge_df[features]\n",
    "y = merge_df[target]\n",
    "X_train, X_test, y_train, y_test = train_test_split(X, y, test_size=0.2, random_state = 14)\n",
    "regressor = RandomForestRegressor(n_estimators=200, random_state=0)\n",
    "regressor.fit(X_train, y_train)\n",
    "y_pred = regressor.predict(X_test)"
   ]
  },
  {
   "cell_type": "code",
   "execution_count": 41,
   "metadata": {},
   "outputs": [
    {
     "data": {
      "text/plain": [
       "0.9327056044186326"
      ]
     },
     "execution_count": 41,
     "metadata": {},
     "output_type": "execute_result"
    }
   ],
   "source": [
    "regressor.score(X_train, y_train)"
   ]
  },
  {
   "cell_type": "code",
   "execution_count": 27,
   "metadata": {},
   "outputs": [
    {
     "data": {
      "text/plain": [
       "0.93"
      ]
     },
     "execution_count": 27,
     "metadata": {},
     "output_type": "execute_result"
    }
   ],
   "source": [
    "round(regressor.score(X_train, y_train), 2)"
   ]
  }
 ],
 "metadata": {
  "kernelspec": {
   "display_name": "Python 3.10.4 ('henry.venv')",
   "language": "python",
   "name": "python3"
  },
  "language_info": {
   "codemirror_mode": {
    "name": "ipython",
    "version": 3
   },
   "file_extension": ".py",
   "mimetype": "text/x-python",
   "name": "python",
   "nbconvert_exporter": "python",
   "pygments_lexer": "ipython3",
   "version": "3.10.4"
  },
  "orig_nbformat": 4,
  "vscode": {
   "interpreter": {
    "hash": "4ec58047134290d39c2f7308759d0b5b4b37344c3d9d773247b7d12617f7238c"
   }
  }
 },
 "nbformat": 4,
 "nbformat_minor": 2
}
