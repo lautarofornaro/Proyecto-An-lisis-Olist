{
 "cells": [
  {
   "cell_type": "code",
   "execution_count": null,
   "metadata": {},
   "outputs": [],
   "source": [
    "import pandas as pd\n",
    "import matplotlib.pyplot as plt\n",
    "import seaborn as sns\n",
    "import numpy as np\n",
    "from pprint import pprint \n",
    "import matplotlib.dates as mpdates\n",
    "from matplotlib import cm\n",
    "from matplotlib import colors\n",
    "from viz_utils import *\n",
    "from ipywidgets import widgets, interactive\n",
    "from sklearn.preprocessing import StandardScaler as SS\n",
    "from sklearn.svm import SVR\n",
    "sns.set()"
   ]
  },
  {
   "cell_type": "code",
   "execution_count": null,
   "metadata": {},
   "outputs": [],
   "source": [
    "closed_deals = pd.read_csv('..\\data\\olist_closed_deals_dataset.csv', parse_dates=[\"won_date\"])\n",
    "\n",
    "customers = pd.read_csv('..\\data\\olist_customers_dataset.csv')\n",
    "\n",
    "geolocation = pd.read_csv('..\\data\\olist_geolocation_dataset.csv')\n",
    "\n",
    "marketing_qualified_leads = pd.read_csv('..\\data\\olist_marketing_qualified_leads_dataset.csv', parse_dates=[\"first_contact_date\"])\n",
    "\n",
    "order_items = pd.read_csv('..\\data\\olist_order_items_dataset.csv', parse_dates=[\"shipping_limit_date\"])\n",
    "\n",
    "order_payments = pd.read_csv('..\\data\\olist_order_payments_dataset.csv')\n",
    "\n",
    "order_reviews = pd.read_csv('..\\data\\olist_order_reviews_dataset.csv', parse_dates=[\"review_creation_date\", 'review_answer_timestamp'])\n",
    "\n",
    "orders = pd.read_csv('..\\data\\olist_orders_dataset.csv', parse_dates=[\"order_purchase_timestamp\", 'order_approved_at', 'order_delivered_carrier_date', 'order_delivered_customer_date', 'order_estimated_delivery_date'])\n",
    "\n",
    "products = pd.read_csv('..\\data\\olist_products_dataset.csv')\n",
    "\n",
    "sellers = pd.read_csv('..\\data\\olist_sellers_dataset.csv')"
   ]
  },
  {
   "cell_type": "code",
   "execution_count": null,
   "metadata": {},
   "outputs": [],
   "source": [
    "color_pal=['blue','gold','violet', 'green', 'black', 'cyan', 'orange', 'brown', 'gray',\n",
    "                                                         'orange', 'purple', 'red']\n",
    "ref=np.log(1)"
   ]
  },
  {
   "cell_type": "markdown",
   "metadata": {},
   "source": [
    "### población Brasil"
   ]
  },
  {
   "cell_type": "code",
   "execution_count": null,
   "metadata": {},
   "outputs": [],
   "source": [
    "popul = pd.read_html('https://es.wikipedia.org/wiki/Demograf%C3%ADa_de_Brasil#:~:text=La%20distribuci%C3%B3n%20de%20la%20poblaci%C3%B3n,Oeste%20y%20en%20el%20Norte.', header=0)[2]\n",
    "popul = popul.sort_values('Pob. (2020)', ascending=False)"
   ]
  },
  {
   "cell_type": "code",
   "execution_count": null,
   "metadata": {},
   "outputs": [],
   "source": [
    "plt.figure(figsize = (12,6))\n",
    "sns.barplot(x='Sigla', y='Pob. (2020)', data=popul)\n",
    "plt.title('Habitantes por estado', fontsize=40)\n",
    "plt.xlabel('Código de estado')\n",
    "plt.ylabel('Habitantes')\n",
    "plt.show()"
   ]
  },
  {
   "cell_type": "markdown",
   "metadata": {},
   "source": [
    "## Customers Dataset"
   ]
  },
  {
   "cell_type": "markdown",
   "metadata": {},
   "source": [
    "### Mismos usuarios con diferentes ID"
   ]
  },
  {
   "cell_type": "code",
   "execution_count": null,
   "metadata": {},
   "outputs": [],
   "source": [
    "custom=['Customer', 'Unique customer']\n",
    "cust_val=[customers.customer_unique_id.value_counts().sum(), len(customers.customer_unique_id.value_counts())]"
   ]
  },
  {
   "cell_type": "code",
   "execution_count": null,
   "metadata": {},
   "outputs": [],
   "source": [
    "graph=plt.bar(custom, cust_val, color=['green','red'], alpha=0.5)\n",
    "i = 0\n",
    "for p in graph:\n",
    "    width = p.get_width()\n",
    "    height = p.get_height()\n",
    "    x, y = p.get_xy()\n",
    "    plt.text(x+width/2,\n",
    "             y+height*1.01,\n",
    "             str(cust_val[i]),\n",
    "             ha='center',\n",
    "             weight='bold')\n",
    "    i+=1\n",
    "plt.title('Registro de clientes y clientes únicos', fontsize=20)\n",
    "plt.ylabel('Cantidad de registros')\n",
    "plt.xticks(custom);"
   ]
  },
  {
   "cell_type": "code",
   "execution_count": null,
   "metadata": {},
   "outputs": [],
   "source": [
    "unicos=[]\n",
    "valores=[]\n",
    "for i in range(7):\n",
    "    if (customers.customer_unique_id.value_counts()>1)[i]:\n",
    "        unicos.append((customers.customer_unique_id.value_counts()>1).index[i])\n",
    "        valores.append(customers.customer_unique_id.value_counts()[i])"
   ]
  },
  {
   "cell_type": "code",
   "execution_count": null,
   "metadata": {},
   "outputs": [],
   "source": [
    "plt.figure(figsize=(15,5))\n",
    "sns.barplot(unicos, valores, palette=\"Blues_r\")\n",
    "plt.xticks(rotation=45)\n",
    "plt.title('Top mismos usuarios con diferentes cuentas', fontsize=30)\n",
    "plt.xlabel('Customer Unique ID')\n",
    "plt.ylabel('Cantidad de cuentas diferentes')\n",
    "plt.show()"
   ]
  },
  {
   "cell_type": "code",
   "execution_count": null,
   "metadata": {},
   "outputs": [],
   "source": [
    "sns.barplot(x=customers.customer_state.value_counts().index , y=customers.customer_state.value_counts())\n",
    "plt.xlabel('Código de estado')\n",
    "plt.ylabel('Número de clientes')\n",
    "plt.title('Clientes por estado', fontsize=40);"
   ]
  },
  {
   "cell_type": "code",
   "execution_count": null,
   "metadata": {},
   "outputs": [],
   "source": [
    "rep_cust=customers.customer_state.value_counts()/customers.customer_state.value_counts().sum()\n",
    "goals=[]\n",
    "labels=[]\n",
    "sum=0\n",
    "for i in range(len(rep_cust)):\n",
    "    if rep_cust[i] >= 0.03:\n",
    "        sum+=rep_cust[i]\n",
    "        goals.append(rep_cust[i])\n",
    "        labels.append(rep_cust.index[i])\n",
    "    else:\n",
    "        break\n",
    "goals.append(1-sum)\n",
    "labels.append('OTROS')\n",
    "plt.figure(figsize=(8,8))\n",
    "plt.pie(goals, autopct=\"%0.1f %%\")\n",
    "plt.legend(labels, bbox_to_anchor=(0, 1), title='Código estado')\n",
    "plt.title('Distribución de los clientes por estado', fontsize=40)\n",
    "plt.show()"
   ]
  },
  {
   "cell_type": "markdown",
   "metadata": {},
   "source": [
    "## Geolocalization"
   ]
  },
  {
   "cell_type": "markdown",
   "metadata": {},
   "source": [
    "### Creando archivo de localización por estado"
   ]
  },
  {
   "cell_type": "code",
   "execution_count": null,
   "metadata": {},
   "outputs": [],
   "source": [
    "stt = pd.read_html('https://es.wikipedia.org/wiki/Unidad_federativa_de_Brasil', header=0)[0]"
   ]
  },
  {
   "cell_type": "code",
   "execution_count": null,
   "metadata": {},
   "outputs": [],
   "source": [
    "entidades=[]\n",
    "for i in range(len(('BR-' + geolocation.geolocation_state.unique()))):\n",
    "    entidades.append(stt[stt['Código ISO']==(('BR-' + geolocation.geolocation_state.unique())[i])]['Unidad federativa'].values[0])"
   ]
  },
  {
   "cell_type": "code",
   "execution_count": null,
   "metadata": {},
   "outputs": [],
   "source": [
    "latitud=[]\n",
    "longitud=[]\n",
    "for i in range(len(geolocation.geolocation_state.unique())):\n",
    "    latitud.append(geolocation[geolocation.geolocation_state==geolocation.geolocation_state.unique()[i]].geolocation_lat.mean())\n",
    "    longitud.append(geolocation[geolocation.geolocation_state==geolocation.geolocation_state.unique()[i]].geolocation_lng.mean())\n",
    "state_location = pd.DataFrame(list(zip('BR-' + geolocation.geolocation_state.unique(), geolocation.geolocation_state.unique(), entidades ,latitud, longitud)), columns = ['State_Code', 'State', 'State_name','Lat', 'Lon'])\n",
    "state_location.to_csv('..\\data\\olist_state_location.csv')"
   ]
  },
  {
   "cell_type": "markdown",
   "metadata": {},
   "source": [
    "## Order_items"
   ]
  },
  {
   "cell_type": "markdown",
   "metadata": {},
   "source": [
    "### Artículos vendidos y órdenes realizadas"
   ]
  },
  {
   "cell_type": "code",
   "execution_count": null,
   "metadata": {},
   "outputs": [],
   "source": [
    "prod=['Productos vendidos', 'Órdenes realizadas']\n",
    "prod_val=[order_items.order_id.value_counts().sum(), len(order_items.order_id.unique())]"
   ]
  },
  {
   "cell_type": "code",
   "execution_count": null,
   "metadata": {},
   "outputs": [],
   "source": [
    "graph=plt.bar(prod, prod_val, color=['blue','red'], alpha=0.5)\n",
    "i = 0\n",
    "for p in graph:\n",
    "    width = p.get_width()\n",
    "    height = p.get_height()\n",
    "    x, y = p.get_xy()\n",
    "    plt.text(x+width/2,\n",
    "             y+height*1.01,\n",
    "             str(prod_val[i]),\n",
    "             ha='center',\n",
    "             weight='bold')\n",
    "    i+=1\n",
    "plt.title('Productos vendidos y órdenes realizadas', fontsize=20)\n",
    "plt.ylabel('Cantidad de registros')\n",
    "plt.xticks(prod);"
   ]
  },
  {
   "cell_type": "code",
   "execution_count": null,
   "metadata": {},
   "outputs": [],
   "source": [
    "unicos=[]\n",
    "valores=[]\n",
    "for i in range(10):\n",
    "    if (order_items.order_id.value_counts()>1)[i]:\n",
    "        unicos.append((order_items.order_id.value_counts()>1).index[i])\n",
    "        valores.append(order_items.order_id.value_counts()[i])"
   ]
  },
  {
   "cell_type": "code",
   "execution_count": null,
   "metadata": {},
   "outputs": [],
   "source": [
    "plt.figure(figsize=(15,5))\n",
    "sns.barplot(unicos, valores, palette=\"Blues_r\")\n",
    "plt.xticks(rotation=45)\n",
    "plt.title('Top artículos por órden', fontsize=30)\n",
    "plt.xlabel('Order ID')\n",
    "plt.ylabel('Cantidad de productos')\n",
    "plt.show()"
   ]
  },
  {
   "cell_type": "code",
   "execution_count": null,
   "metadata": {},
   "outputs": [],
   "source": [
    "# KPI Top 10 ingresos por categoria\n",
    "KPI_categoria_ingreso = order_items.groupby(['product_id']).sum()['price'].reset_index()\n",
    "KPI_categoria_ingreso = KPI_categoria_ingreso.merge(products, on='product_id', copy=False)\n",
    "KPI_categoria_ingreso = KPI_categoria_ingreso.drop(columns=['product_name_lenght', \n",
    "                                                            'product_description_lenght', \n",
    "                                                            'product_photos_qty', \n",
    "                                                            'product_weight_g', \n",
    "                                                            'product_length_cm', \n",
    "                                                            'product_height_cm',\n",
    "                                                            'product_width_cm'])\n",
    "KPI_categoria_ingreso = KPI_categoria_ingreso.merge(categoryName, on='product_category_name', copy=False)\n",
    "KPI_categoria_ingreso = KPI_categoria_ingreso.groupby('product_category_name_english').sum().sort_values('price', ascending=False).reset_index().head(10)\n",
    "\n",
    "# Grafico\n",
    "ax=sns.barplot(x=KPI_categoria_ingreso['product_category_name_english'], y=KPI_categoria_ingreso['price'])\n",
    "ax.set_xticklabels(ax.get_xticklabels(),rotation = 45)\n",
    "plt.title('Top 10 Ingresos por categoria', fontsize=40)\n",
    "plt.xlabel('Categorias')\n",
    "plt.ylabel('Total de ingreso')\n",
    "plt.show()"
   ]
  },
  {
   "cell_type": "markdown",
   "metadata": {},
   "source": [
    "### KPI Embrace"
   ]
  },
  {
   "cell_type": "code",
   "execution_count": null,
   "metadata": {},
   "outputs": [],
   "source": [
    "income=[]\n",
    "for i in range(len(KPI_categoria_ingreso)):\n",
    "    if KPI_categoria_ingreso.price[i]/KPI_categoria_ingreso.price[0] >= 0.5:\n",
    "        income.append(KPI_categoria_ingreso.price[i]/KPI_categoria_ingreso.price[0])\n",
    "    else: break\n",
    "KPI_categoria_ingreso = KPI_categoria_ingreso.groupby('product_category_name_english').sum().sort_values('price', ascending=False).reset_index().head(i)\n",
    "\n",
    "# Grafico\n",
    "ax=sns.barplot(x=KPI_categoria_ingreso['product_category_name_english'], y=income)\n",
    "ax.set_xticklabels(ax.get_xticklabels(),rotation = 75)\n",
    "plt.title('KPI Embrace', fontsize=20)\n",
    "plt.xlabel('Categorias')\n",
    "plt.ylabel('Valor KPI')\n",
    "plt.show()"
   ]
  },
  {
   "cell_type": "markdown",
   "metadata": {},
   "source": [
    "## Order_payments"
   ]
  },
  {
   "cell_type": "code",
   "execution_count": null,
   "metadata": {},
   "outputs": [],
   "source": [
    "fig, ax = plt.subplots(figsize=(10, 5))\n",
    "single_countplot(order_payments, x='payment_type', ax=ax)\n",
    "plt.title('Distribución métodos de pago', fontsize=30)\n",
    "plt.show()"
   ]
  },
  {
   "cell_type": "code",
   "execution_count": null,
   "metadata": {},
   "outputs": [],
   "source": [
    "pay_meth=[]\n",
    "pay_seq=[]\n",
    "for i in range(1, order_payments.payment_type.value_counts().sum()+1, 1):\n",
    "    if len(order_payments[order_payments.payment_sequential>=i].payment_type.value_counts()) == 1:\n",
    "        pay_meth.append(1)\n",
    "        pay_seq.append(i)\n",
    "        break\n",
    "    elif len(order_payments[order_payments.payment_sequential>=i].payment_type.value_counts()) > 1:\n",
    "        pay_meth.append(len(order_payments[order_payments.payment_sequential>=i].payment_type.value_counts()))\n",
    "        pay_seq.append(i)"
   ]
  },
  {
   "cell_type": "code",
   "execution_count": null,
   "metadata": {},
   "outputs": [],
   "source": [
    "plt.figure(figsize=(10,5))\n",
    "sns.barplot(pay_seq, pay_meth, palette=\"Blues_r\")\n",
    "plt.title('Métodos de pago empleados por cantidad de pagos realizados por compra', fontsize = 20)\n",
    "plt.xlabel('Cantidad de pagos por compra')\n",
    "plt.ylabel('Cantidad de métodos de pago utilizados')\n",
    "plt.show()"
   ]
  },
  {
   "cell_type": "code",
   "execution_count": null,
   "metadata": {},
   "outputs": [],
   "source": [
    "KPI_payment_method = pd.DataFrame()\n",
    "KPI_payment_method['order_id'] = orders['order_id']\n",
    "KPI_payment_method['date'] = orders['order_purchase_timestamp']\n",
    "KPI_payment_method['date'] = KPI_payment_method['date'].dt.strftime('%Y-%m')\n",
    "KPI_payment_method = KPI_payment_method.merge(order_payments, on='order_id', copy=False)\n",
    "KPI_payment_method = KPI_payment_method.drop(columns=['order_id','payment_sequential','payment_installments','payment_value'])\n",
    "KPI_payment_method = KPI_payment_method.value_counts().unstack().reset_index()"
   ]
  },
  {
   "cell_type": "code",
   "execution_count": null,
   "metadata": {},
   "outputs": [],
   "source": [
    "for elem in order_payments.payment_type.unique():\n",
    "    sns.lineplot(x = 'date', y = elem, data = KPI_payment_method)\n",
    "sns.set(rc = {'figure.figsize':(10,6)})\n",
    "plt.title('Métodos de pago a lo largo del tiempo', fontsize=30)\n",
    "plt.xlabel('Fecha (aaaa,mm)')\n",
    "plt.ylabel('Número de transacciones pagadas')\n",
    "plt.xticks(rotation=45)\n",
    "plt.legend(labels=order_payments.payment_type.unique(), title='Métodos de pago', \n",
    "           fontsize = 'medium', title_fontsize = \"12\")\n",
    "plt.show()"
   ]
  },
  {
   "cell_type": "markdown",
   "metadata": {},
   "source": [
    "## Representatibilidad de los compradores en el país"
   ]
  },
  {
   "cell_type": "code",
   "execution_count": null,
   "metadata": {},
   "outputs": [],
   "source": [
    "rep_cust=customers.customer_state.value_counts()/customers.customer_state.value_counts().sum()\n",
    "goals=[]\n",
    "labels=[]\n",
    "sum=0\n",
    "for i in range(len(rep_cust)):\n",
    "    if rep_cust[i] >= 0.03:\n",
    "        sum+=rep_cust[i]\n",
    "        goals.append(rep_cust[i])\n",
    "        labels.append(rep_cust.index[i])\n",
    "    else:\n",
    "        break\n",
    "goals.append(1-sum)\n",
    "labels.append('OTROS')\n",
    "plt.figure(figsize=(8,8))\n",
    "plt.pie(goals, autopct=\"%0.1f %%\")\n",
    "plt.legend(labels, bbox_to_anchor=(0, 1))\n",
    "plt.show()"
   ]
  },
  {
   "cell_type": "markdown",
   "metadata": {},
   "source": [
    "## Representatibilidad de los vendedores en el país"
   ]
  },
  {
   "cell_type": "code",
   "execution_count": null,
   "metadata": {},
   "outputs": [],
   "source": [
    "sns.barplot(x=sellers.seller_state.value_counts().index , y=sellers.seller_state.value_counts())\n",
    "plt.xlabel('Código de estado')\n",
    "plt.ylabel('Número de vendedores')\n",
    "plt.title('Vendedores por estado', fontsize=40);"
   ]
  },
  {
   "cell_type": "code",
   "execution_count": null,
   "metadata": {},
   "outputs": [],
   "source": [
    "rep_sell=sellers.seller_state.value_counts()/sellers.seller_state.value_counts().sum()\n",
    "goals=[]\n",
    "labels=[]\n",
    "sum=0\n",
    "for i in range(len(rep_cust)):\n",
    "    if rep_cust[i] >= 0.03:\n",
    "        sum+=rep_sell[i]\n",
    "        goals.append(rep_sell[i])\n",
    "        labels.append(rep_sell.index[i])\n",
    "    else:\n",
    "        break\n",
    "goals.append(1-sum)\n",
    "labels.append('OTROS')\n",
    "plt.figure(figsize=(8,8))\n",
    "plt.pie(goals, autopct=\"%0.1f %%\")\n",
    "plt.legend(labels, bbox_to_anchor=(0, 1), title='Código estado')\n",
    "plt.show()"
   ]
  },
  {
   "cell_type": "markdown",
   "metadata": {},
   "source": [
    "### KPI Contundencia\n",
    "\n",
    "KPI_C=delivered/orders"
   ]
  },
  {
   "cell_type": "code",
   "execution_count": null,
   "metadata": {},
   "outputs": [],
   "source": [
    "year_cont=[]\n",
    "cont=[]\n",
    "for i in range (int(orders.order_approved_at.describe()[4].strftime(\"%Y\")), int(orders.order_approved_at.describe()[5].strftime(\"%Y\"))+1, 1):\n",
    "    year_cont.append(i)\n",
    "    cont.append(orders[orders.order_approved_at.dt.year==i].order_status.value_counts()[0]/orders[orders.order_approved_at.dt.year==i].order_status.value_counts().sum())\n",
    "graph=plt.bar(year_cont, cont, color=['blue','red','green'], alpha=0.5)\n",
    "i = 0\n",
    "for p in graph:\n",
    "    width = p.get_width()\n",
    "    height = p.get_height()\n",
    "    x, y = p.get_xy()\n",
    "    plt.text(x+width/2,\n",
    "             y+height*1.01,\n",
    "             str(round(cont[i], 2)),\n",
    "             ha='center',\n",
    "             weight='bold')\n",
    "    i+=1\n",
    "plt.title('KPI contundencia')\n",
    "plt.xticks(year_cont);    "
   ]
  },
  {
   "cell_type": "markdown",
   "metadata": {},
   "source": [
    "### Orders"
   ]
  },
  {
   "cell_type": "code",
   "execution_count": null,
   "metadata": {},
   "outputs": [],
   "source": [
    "fig, ax = plt.subplots(figsize=(14, 6))\n",
    "single_countplot(df_orders, x='order_status', ax=ax)\n",
    "plt.title('Distribución del estatus de la orden', fontsize=35)\n",
    "plt.xlabel('Estatus de la orden')\n",
    "plt.ylabel('Numero de órdenes')\n",
    "plt.show()"
   ]
  },
  {
   "cell_type": "markdown",
   "metadata": {},
   "source": [
    "### Products"
   ]
  },
  {
   "cell_type": "code",
   "execution_count": null,
   "metadata": {},
   "outputs": [],
   "source": [
    "## df multiindice\n",
    "df = pd.merge(order_items[['seller_id','product_id']],products[['product_id','product_category_name']],on='product_id').groupby(['product_category_name',\n",
    "                                                                                                                            'seller_id']).count().sort_values('product_id',ascending=False)\n",
    "## df con un indice\n",
    "\n",
    "df = df.reset_index(level='seller_id').sort_index()\n",
    "df_top_categoria = pd.DataFrame()\n",
    "for i in df.index.unique():\n",
    "    df_top_categoria = pd.concat([df_top_categoria,df[df.index == i].sort_values(by='product_id',ascending=False).head(10)])\n",
    "    \n",
    "categoria = widgets.Dropdown(\n",
    "    options=['All'] + list(df_top_categoria.index.unique()),\n",
    "    value='All',\n",
    "    description='categoria:',\n",
    ")\n",
    "def plotit(categoria):\n",
    "    plt.bar(df_top_categoria[df_top_categoria.index == categoria]['seller_id'],df_top_categoria[df_top_categoria.index == categoria]['product_id'])\n",
    "    plt.xticks(rotation = 90) \n",
    "    plt.show()\n"
   ]
  },
  {
   "cell_type": "markdown",
   "metadata": {},
   "source": [
    "### KPI Latencia (envío)\n",
    "\n",
    "KPI_L_S = 1-((Ln('delta' time to carrier deliver +1))/Ln('delta' max time passed))"
   ]
  },
  {
   "cell_type": "markdown",
   "metadata": {},
   "source": [
    "### Anual"
   ]
  },
  {
   "cell_type": "code",
   "execution_count": null,
   "metadata": {},
   "outputs": [],
   "source": [
    "year_cont=[]\n",
    "empaq=[]\n",
    "for i in range (int(orders.order_approved_at.describe()[4].strftime(\"%Y\")), int(orders.order_approved_at.describe()[5].strftime(\"%Y\"))+1, 1):\n",
    "    year_cont.append(i)\n",
    "    val=(1-((np.log(((orders[orders.order_approved_at.dt.year==i].order_delivered_carrier_date - orders[orders.order_approved_at.dt.year==i].order_approved_at).map(mpdates.date2num)+1)))/(np.log(np.max((orders[orders.order_approved_at.dt.year==i].order_delivered_carrier_date - orders[orders.order_approved_at.dt.year==i].order_approved_at).map(mpdates.date2num)))))).mean()\n",
    "    if type(val) == type(ref):\n",
    "        empaq.append(val)\n",
    "    else:\n",
    "        empaq.append(0)\n",
    "graph=plt.bar(year_cont, empaq, color=['blue','red','green'], alpha=0.5)\n",
    "i = 0\n",
    "for p in graph:\n",
    "    width = p.get_width()\n",
    "    height = p.get_height()\n",
    "    x, y = p.get_xy()\n",
    "    plt.text(x+width/2,\n",
    "             y+height*1.01,\n",
    "             str(round(empaq[i], 2)),\n",
    "             ha='center',\n",
    "             weight='bold')\n",
    "    i+=1\n",
    "plt.title('KPI Latencia A (anual)')\n",
    "plt.xlabel('Mes')\n",
    "plt.ylabel('KPI')\n",
    "plt.xticks(year_cont);    "
   ]
  },
  {
   "cell_type": "markdown",
   "metadata": {},
   "source": [
    "### Mensual"
   ]
  },
  {
   "cell_type": "code",
   "execution_count": null,
   "metadata": {},
   "outputs": [],
   "source": [
    "for i in range (int(orders.order_approved_at.describe()[4].strftime(\"%Y\")), int(orders.order_approved_at.describe()[5].strftime(\"%Y\"))+1, 1):\n",
    "    delivr_month=[]\n",
    "    month=[]\n",
    "    numbers=[]\n",
    "    for j in range (int(np.min(orders3[orders3.order_delivered_carrier_date.dt.year==i].order_delivered_carrier_date.dt.month)), int(np.max(orders3[orders3.order_delivered_carrier_date.dt.year==i].order_delivered_carrier_date.dt.month))+1, 1):\n",
    "        numbers.append(j)\n",
    "        if j==1:\n",
    "            month.append('Enero')\n",
    "        elif j==2:\n",
    "            month.append('Febrero')\n",
    "        elif j==3:\n",
    "            month.append('Marzo')\n",
    "        elif j==4:\n",
    "            month.append('Abril')\n",
    "        elif j==5:\n",
    "            month.append('Mayo')\n",
    "        elif j==6:\n",
    "            month.append('Junio')\n",
    "        elif j==7:\n",
    "            month.append('Julio')\n",
    "        elif j==8:\n",
    "            month.append('Agosto')\n",
    "        elif j==9:\n",
    "            month.append('Septiembre')\n",
    "        elif j==10:\n",
    "            month.append('Octubre')\n",
    "        elif j==11:\n",
    "            month.append('Noviembre')\n",
    "        elif j==12:\n",
    "            month.append('Diciembre')\n",
    "        val=(1-((np.log(((orders3[(orders3.order_approved_at.dt.year==i) & (orders3.order_approved_at.dt.month==j)].order_delivered_carrier_date - orders3[(orders3.order_approved_at.dt.year==i) & (orders3.order_approved_at.dt.month==j)].order_approved_at).map(mpdates.date2num)+1)))/(np.log(np.max((orders3[orders3.order_approved_at.dt.year==i].order_delivered_carrier_date - orders3[orders3.order_approved_at.dt.year==i].order_approved_at).map(mpdates.date2num)))))).mean()\n",
    "        if type(val) == type(ref):\n",
    "            delivr_month.append(val)\n",
    "        else:\n",
    "            delivr_month.append(0)\n",
    "    pal=[]\n",
    "    for elem in numbers:\n",
    "        pal.append(color_pal[elem-1])\n",
    "    print('-----------------------------------------------------', 'Año', i, '-----------------------------------------------------')\n",
    "    plt.figure(figsize=(9,5))\n",
    "    graph=plt.bar(month, delivr_month, alpha=0.5, color=pal)\n",
    "    k = 0\n",
    "    for p in graph:\n",
    "        width = p.get_width()\n",
    "        height = p.get_height()\n",
    "        x, y = p.get_xy()\n",
    "        plt.text(x+width/2,\n",
    "                y+height*1.01,\n",
    "                str(round(delivr_month[k], 2)),\n",
    "                ha='center',\n",
    "                weight='bold')\n",
    "        k+=1\n",
    "    plt.title('KPI Latencia A')\n",
    "    plt.xticks(month, rotation = 45)\n",
    "    plt.xlabel('Mes')\n",
    "    plt.ylabel('KPI')\n",
    "    plt.show()"
   ]
  },
  {
   "cell_type": "markdown",
   "metadata": {},
   "source": [
    "### KPI Latencia (entrega)\n",
    "\n",
    "KPI_L_D = 1-((Ln('delta' time to carrier deliver +1))/Ln('delta' max time passed))"
   ]
  },
  {
   "cell_type": "markdown",
   "metadata": {},
   "source": [
    "### Anual"
   ]
  },
  {
   "cell_type": "code",
   "execution_count": null,
   "metadata": {},
   "outputs": [],
   "source": [
    "year_cont=[]\n",
    "delivr=[]\n",
    "for i in range (int(orders.order_approved_at.describe()[4].strftime(\"%Y\")), int(orders.order_approved_at.describe()[5].strftime(\"%Y\"))+1, 1):\n",
    "    year_cont.append(i)\n",
    "    val=(1-((np.log(((orders[orders.order_delivered_carrier_date.dt.year==i].order_delivered_customer_date - orders[orders.order_delivered_carrier_date.dt.year==i].order_delivered_carrier_date).map(mpdates.date2num)+1)))/(np.log(np.max((orders[orders.order_delivered_carrier_date.dt.year==i].order_delivered_customer_date - orders[orders.order_delivered_carrier_date.dt.year==i].order_delivered_carrier_date).map(mpdates.date2num)))))).mean()\n",
    "    if type(val) == type(ref):\n",
    "        delivr.append(val)\n",
    "    else:\n",
    "        delivr.append(0)\n",
    "graph=plt.bar(year_cont, delivr, color=['blue','red','green'], alpha=0.5)\n",
    "i = 0\n",
    "for p in graph:\n",
    "    width = p.get_width()\n",
    "    height = p.get_height()\n",
    "    x, y = p.get_xy()\n",
    "    plt.text(x+width/2,\n",
    "             y+height*1.01,\n",
    "             str(round(delivr[i], 2)),\n",
    "             ha='center',\n",
    "             weight='bold')\n",
    "    i+=1\n",
    "plt.title('KPI Latencia B (anual)')\n",
    "plt.xlabel('Mes')\n",
    "plt.ylabel('KPI')\n",
    "plt.xticks(year_cont)\n",
    "plt.show()"
   ]
  },
  {
   "cell_type": "markdown",
   "metadata": {},
   "source": [
    "### Mensual"
   ]
  },
  {
   "cell_type": "code",
   "execution_count": null,
   "metadata": {},
   "outputs": [],
   "source": [
    "for i in range (int(orders.order_approved_at.describe()[4].strftime(\"%Y\")), int(orders.order_approved_at.describe()[5].strftime(\"%Y\"))+1, 1):\n",
    "    delivr_month=[]\n",
    "    month=[]\n",
    "    numbers=[]\n",
    "    for j in range (int(np.min(orders3[orders3.order_delivered_carrier_date.dt.year==i].order_delivered_carrier_date.dt.month)), int(np.max(orders3[orders3.order_delivered_carrier_date.dt.year==i].order_delivered_carrier_date.dt.month))+1, 1):\n",
    "        numbers.append(j)\n",
    "        if j==1:\n",
    "            month.append('Enero')\n",
    "        elif j==2:\n",
    "            month.append('Febrero')\n",
    "        elif j==3:\n",
    "            month.append('Marzo')\n",
    "        elif j==4:\n",
    "            month.append('Abril')\n",
    "        elif j==5:\n",
    "            month.append('Mayo')\n",
    "        elif j==6:\n",
    "            month.append('Junio')\n",
    "        elif j==7:\n",
    "            month.append('Julio')\n",
    "        elif j==8:\n",
    "            month.append('Agosto')\n",
    "        elif j==9:\n",
    "            month.append('Septiembre')\n",
    "        elif j==10:\n",
    "            month.append('Octubre')\n",
    "        elif j==11:\n",
    "            month.append('Noviembre')\n",
    "        elif j==12:\n",
    "            month.append('Diciembre')\n",
    "        val=(1-((np.log(((orders3[(orders3.order_delivered_carrier_date.dt.year==i) & (orders3.order_delivered_carrier_date.dt.month==j)].order_delivered_customer_date - orders3[(orders3.order_delivered_carrier_date.dt.year==i) & (orders3.order_delivered_carrier_date.dt.month==j)].order_delivered_carrier_date).map(mpdates.date2num)+1)))/(np.log(np.max((orders3[orders3.order_delivered_carrier_date.dt.year==i].order_delivered_customer_date - orders3[orders3.order_delivered_carrier_date.dt.year==i].order_delivered_carrier_date).map(mpdates.date2num)))))).mean()\n",
    "        if type(val) == type(ref):\n",
    "            delivr_month.append(val)\n",
    "        else:\n",
    "            delivr_month.append(0)\n",
    "    pal=[]\n",
    "    for elem in numbers:\n",
    "        pal.append(color_pal[elem-1])\n",
    "    print('-----------------------------------------------------', 'Año', i, '-----------------------------------------------------')\n",
    "    plt.figure(figsize=(9,5))\n",
    "    graph=plt.bar(month, delivr_month, alpha=0.5, color=pal)\n",
    "    k = 0\n",
    "    for p in graph:\n",
    "        width = p.get_width()\n",
    "        height = p.get_height()\n",
    "        x, y = p.get_xy()\n",
    "        plt.text(x+width/2,\n",
    "                y+height*1.01,\n",
    "                str(round(delivr_month[k], 2)),\n",
    "                ha='center',\n",
    "                weight='bold')\n",
    "        k+=1\n",
    "    plt.title('KPI Latencia B (mensual)')\n",
    "    plt.xticks(month, rotation = 45)\n",
    "    plt.xlabel('Mes')\n",
    "    plt.ylabel('KPI')\n",
    "    plt.show()"
   ]
  },
  {
   "cell_type": "markdown",
   "metadata": {},
   "source": [
    "### Ventas anuales"
   ]
  },
  {
   "cell_type": "code",
   "execution_count": null,
   "metadata": {},
   "outputs": [],
   "source": [
    "year_cont=[]\n",
    "cont=[]\n",
    "for i in range (int(orders.order_approved_at.describe()[4].strftime(\"%Y\")), int(orders.order_approved_at.describe()[5].strftime(\"%Y\"))+1, 1):\n",
    "    year_cont.append(i)\n",
    "    cont.append(ventas_pagos[ventas_pagos.order_approved_at.dt.year==i].payment_value.sum())\n",
    "graph=plt.bar(year_cont, cont, color=['blue','red','green'], alpha=0.5)\n",
    "i = 0\n",
    "for p in graph:\n",
    "    width = p.get_width()\n",
    "    height = p.get_height()\n",
    "    x, y = p.get_xy()\n",
    "    plt.text(x+width/2,\n",
    "             y+height*1.01,\n",
    "             str(round(cont[i], 2)),\n",
    "             ha='center',\n",
    "             weight='bold')\n",
    "    i+=1\n",
    "plt.title('Ventas anuales', fontsize=35)\n",
    "plt.xlabel('Año')\n",
    "plt.ylabel('Ventas totales (moneda local)')\n",
    "plt.xticks(year_cont);   "
   ]
  },
  {
   "cell_type": "markdown",
   "metadata": {},
   "source": [
    "### Ventas anuales extracto mensual"
   ]
  },
  {
   "cell_type": "code",
   "execution_count": null,
   "metadata": {},
   "outputs": [],
   "source": [
    "year_cont=[]\n",
    "cont=[]\n",
    "for i in range (int(orders.order_approved_at.describe()[4].strftime(\"%Y\")), int(orders.order_approved_at.describe()[5].strftime(\"%Y\"))+1, 1):\n",
    "    year_cont.append(i)\n",
    "    cont.append(ventas_pagos[ventas_pagos.order_approved_at.dt.year==i].payment_value.sum()/(np.max(ventas_pagos[ventas_pagos.order_approved_at.dt.year==i].order_approved_at.dt.month)-np.min(ventas_pagos[ventas_pagos.order_approved_at.dt.year==i].order_approved_at.dt.month)+1))\n",
    "graph=plt.bar(year_cont, cont, color=['blue','red','green'], alpha=0.5)\n",
    "i = 0\n",
    "for p in graph:\n",
    "    width = p.get_width()\n",
    "    height = p.get_height()\n",
    "    x, y = p.get_xy()\n",
    "    plt.text(x+width/2,\n",
    "             y+height*1.01,\n",
    "             str(round(cont[i], 2)),\n",
    "             ha='center',\n",
    "             weight='bold')\n",
    "    i+=1\n",
    "plt.title('Ventas anuales (extracto mensual)', fontsize=25)\n",
    "plt.xlabel('Año')\n",
    "plt.ylabel('Ventas totales (moneda local)')\n",
    "plt.xticks(year_cont);  "
   ]
  },
  {
   "cell_type": "markdown",
   "metadata": {},
   "source": [
    "### KPI Sales Performance"
   ]
  },
  {
   "cell_type": "code",
   "execution_count": null,
   "metadata": {},
   "outputs": [],
   "source": [
    "y_cont=[1]\n",
    "for i in range(len(cont)-1):\n",
    "    y_cont.append(cont[i+1]/cont[i])"
   ]
  },
  {
   "cell_type": "code",
   "execution_count": null,
   "metadata": {},
   "outputs": [],
   "source": [
    "plt.scatter(year_cont, np.log(y_cont)+1)\n",
    "plt.plot(year_cont, np.log(y_cont)+1, color='green', alpha=0.3)\n",
    "plt.plot([min(year_cont), max(year_cont)+2], [1, 1], color='red', alpha=0.7)\n",
    "plt.xticks(year_cont)\n",
    "plt.xlim(min(year_cont),max(year_cont)+0.5)\n",
    "plt.title('KPI: Sales Performance (SP)', fontsize=25)\n",
    "plt.xlabel('Año evaluado')\n",
    "plt.ylabel('Valor KPI')\n",
    "plt.show()"
   ]
  },
  {
   "cell_type": "markdown",
   "metadata": {},
   "source": [
    "# Modelo ML SVR tendencia uso tarjta de crédito como método de pago"
   ]
  },
  {
   "cell_type": "code",
   "execution_count": null,
   "metadata": {},
   "outputs": [],
   "source": [
    "KPI_payment_method.date=KPI_payment_method.date.map(mpdates.date2num)\n",
    "X=KPI_payment_method.iloc[:23,0:1].values\n",
    "y=KPI_payment_method.iloc[:23,2:3].valuessc_X= SS()\n",
    "sc_y= SS()\n",
    "X=sc_X.fit_transform(X)\n",
    "y= sc_y.fit_transform(y.reshape(-1,1))\n",
    "regresion = SVR(kernel= 'rbf')\n",
    "regresion.fit(X, y)\n",
    "X1= sc_X.inverse_transform(X)\n",
    "y1= sc_y.inverse_transform(y)\n",
    "X_grid = np.arange(min(X), 3.7, 0.1)\n",
    "X_grid = X_grid.reshape(len(X_grid), 1)\n",
    "y_pred_grid=regresion.predict(X_grid)\n",
    "y_pred_grid = y_pred_grid.reshape(len(y_pred_grid), 1)"
   ]
  },
  {
   "cell_type": "code",
   "execution_count": null,
   "metadata": {},
   "outputs": [],
   "source": [
    "fig, ax = plt.subplots()\n",
    "ax.plot(sc_X.inverse_transform(X_grid), sc_y.inverse_transform(y_pred_grid), color = \"blue\", label='Línea de tendencia')\n",
    "ax.set_xlabel('Date')\n",
    "plt.scatter(X1, y1, color = \"red\", label='Valor real')\n",
    "ax.xaxis.set_major_formatter(mpdates.DateFormatter('%Y-%m'))\n",
    "fig.autofmt_xdate(rotation=0)\n",
    "plt.title('Modelo de ML (SVR) y predicción', fontsize=30)\n",
    "plt.xlabel('Fecha (aaaa-mm)')\n",
    "plt.ylabel('Clintes que utilizan \"crdit-card\"')\n",
    "plt.legend()\n",
    "plt.show()"
   ]
  },
  {
   "cell_type": "markdown",
   "metadata": {},
   "source": [
    "# Modelo MLR predicción precios de envío"
   ]
  },
  {
   "cell_type": "code",
   "execution_count": null,
   "metadata": {},
   "outputs": [],
   "source": [
    "master_join = pd.merge(order_items, orders, how='left', left_on=order_items['order_id'], right_on=orders['order_id'])\n",
    "master_join.drop(['key_0'], axis=1, inplace=True)\n",
    "master_join = pd.merge(master_join, products, how='left', left_on=master_join['product_id'], right_on=products['product_id'])\n",
    "master_join.drop(['key_0'], axis=1, inplace=True)\n",
    "master_join = pd.merge(master_join, sellers, how='left', left_on=master_join['seller_id'], right_on=sellers['seller_id'])\n",
    "master_join.drop(['key_0'], axis=1, inplace=True)\n",
    "master_join = pd.merge(master_join, customers, how='left', left_on=master_join['customer_id'], right_on=customers['customer_id'])\n",
    "master_join.drop(['key_0'], axis=1, inplace=True)\n",
    "master_join = pd.merge(master_join, state_location, how='left', left_on=master_join['customer_state'], right_on=state_location['state'])\n",
    "master_join.drop(['key_0'], axis=1, inplace=True)\n",
    "master_join['customer_latitud']=master_join['latitud']\n",
    "master_join['customer_longitud']=master_join['longitud']\n",
    "master_join['customer_state']=master_join['state']\n",
    "master_join.drop(['latitud', 'longitud', 'state'], axis=1, inplace=True)\n",
    "master_join = pd.merge(master_join, state_location, how='left', left_on=master_join['seller_state'], right_on=state_location['state'])\n",
    "master_join.drop(['key_0'], axis=1, inplace=True)\n",
    "master_join['seller_latitud']=master_join['latitud']\n",
    "master_join['seller_longitud']=master_join['longitud']\n",
    "master_join['seller_state']=master_join['state']\n",
    "master_join.drop(['latitud', 'longitud', 'state'], axis=1, inplace=True)\n",
    "master_join['distance']=np.sqrt(np.power(master_join.customer_latitud - master_join.seller_latitud, 2) + \n",
    "                                np.power(master_join.customer_longitud - master_join.seller_longitud, 2))\n",
    "master_join.drop(['seller_longitud', 'seller_latitud', 'customer_longitud', 'customer_latitud', 'customer_city',\n",
    "                  'customer_zip_code_prefix', 'shipping_limit_date', 'order_id_y', 'order_status',\n",
    "                  'order_purchase_timestamp', 'order_approved_at', 'order_delivered_carrier_date',\n",
    "                  'order_delivered_customer_date', 'order_estimated_delivery_date', 'product_id_y',\n",
    "                  'product_name_lenght', 'product_category_name', 'product_name_lenght', 'product_description_lenght',\n",
    "                  'product_photos_qty', 'seller_id_y', 'seller_zip_code_prefix', 'customer_id_y'], axis=1, inplace=True)\n",
    "master_join.drop(['order_id_x', 'order_item_id', 'product_id_x', 'seller_id_x', 'customer_id_x',\n",
    "                 'seller_city', 'seller_state', 'customer_unique_id', 'customer_state'], axis=1, inplace=True)\n",
    "master_join.distance = round(master_join.distance, 2)\n",
    "master_join.product_weight_g = round(master_join.product_weight_g, 2)\n",
    "master_join.product_length_cm = round(master_join.product_length_cm, 2)\n",
    "master_join.product_height_cm = round(master_join.product_height_cm, 2)\n",
    "master_join.product_width_cm = round(master_join.product_width_cm, 2)\n",
    "master_join = master_join.reset_index()\n",
    "master_join.drop(['level_0', 'index'], axis=1, inplace=True)"
   ]
  },
  {
   "cell_type": "code",
   "execution_count": null,
   "metadata": {},
   "outputs": [],
   "source": [
    "dataset=pd.read_csv('master_join.csv')\n",
    "X=dataset.iloc[:,3:].values\n",
    "y=dataset.iloc[:,2:3].values\n",
    "from sklearn.model_selection import train_test_split as tts\n",
    "X_train, X_test, y_train, y_test = tts(X, y, test_size=0.2, random_state=0)\n",
    "from sklearn.linear_model import LinearRegression as LR\n",
    "regresion=LR()\n",
    "regresion.fit(X_train, y_train)\n",
    "y_pred_MLR=regresion.predict(X_test)\n",
    "X_opt=X_test\n",
    "X_opt=np.append(arr= np.ones((22527,1)).astype(int), values=X_test, axis=1)\n",
    "regresion_OLS = sm.OLS(endog = y_test, exog = X_opt.tolist()).fit()"
   ]
  },
  {
   "cell_type": "code",
   "execution_count": null,
   "metadata": {},
   "outputs": [],
   "source": [
    "regresion_OLS.summary()"
   ]
  }
 ],
 "metadata": {
  "kernelspec": {
   "display_name": "Python 3.10.5 64-bit (windows store)",
   "language": "python",
   "name": "python3"
  },
  "language_info": {
   "name": "python",
   "version": "3.10.5"
  },
  "orig_nbformat": 4,
  "vscode": {
   "interpreter": {
    "hash": "f8ca15d83b6fb72cece3edcf60f6aa40d2cbdeb5c60e0f188ff8c7c65828fd00"
   }
  }
 },
 "nbformat": 4,
 "nbformat_minor": 2
}
